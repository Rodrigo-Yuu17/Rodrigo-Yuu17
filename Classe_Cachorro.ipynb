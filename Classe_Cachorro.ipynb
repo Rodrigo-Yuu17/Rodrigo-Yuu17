{
  "nbformat": 4,
  "nbformat_minor": 0,
  "metadata": {
    "colab": {
      "provenance": [],
      "mount_file_id": "1dpWhr2A9p0ivAt4ITHM7C2SNZBsSsfV_",
      "authorship_tag": "ABX9TyPAMpmIVRMhX0gySsJupqSZ",
      "include_colab_link": true
    },
    "kernelspec": {
      "name": "python3",
      "display_name": "Python 3"
    },
    "language_info": {
      "name": "python"
    }
  },
  "cells": [
    {
      "cell_type": "markdown",
      "metadata": {
        "id": "view-in-github",
        "colab_type": "text"
      },
      "source": [
        "<a href=\"https://colab.research.google.com/github/Rodrigo-Yuu17/Rodrigo-Yuu17/blob/main/Classe_Cachorro.ipynb\" target=\"_parent\"><img src=\"https://colab.research.google.com/assets/colab-badge.svg\" alt=\"Open In Colab\"/></a>"
      ]
    },
    {
      "cell_type": "code",
      "source": [
        "Class Cachorro:\n",
        "  def __init__(self, nome: str, raca: str, comprimento: float, peso: float):\n",
        "    self.nome = nome\n",
        "    self.raca = raca\n",
        "    self.comprimento = comprimento\n",
        "    self.peso = peso\n",
        "\n",
        "  def latir(self):\n",
        "    print(f'Au au! Eu sou o(a) {self.nome}')\n",
        "\n",
        "  def morder(self):\n",
        "    print(f'O(a) cachorro(a) {self.nome} te mordeu!')\n",
        "\n",
        "  def dormir(self):\n",
        "    print('ZzZzZz...')\n",
        "\n",
        "  def brincar(self):\n",
        "    print('Eu gosto de brincar de bolinha!')\n",
        "\n",
        "  def comer(self):\n",
        "    print(f'Eu peso {self.peso}kg e preciso comer {self.peso * 1000 *0.01}g de comida para ficar forte para brincar de novo')\n",
        "\n",
        "\n",
        "  \"\"\"Nesse exemplo podemos perceber que os atributos da classe são todos definidos usando self, como mencionado anteriormente, e também são recebidos como parâmetro da função __init__, que é responsável por efetivamente “dar vida” à nossa instância. Então, se precisarmos do atributo nome do nosso objeto dentro de algum método (como é o caso dos métodos latir e morder), o acessamos através do self, fazendo self.<nome_do_atributo>. \"\"\"\n"
      ],
      "metadata": {
        "id": "xEiIQfEd_-OQ"
      },
      "execution_count": null,
      "outputs": []
    },
    {
      "cell_type": "code",
      "source": [
        "Acessando a instância de Cachorro, Becca\n",
        "becca = Cachorro('Becca', 'West', 65, 7)\n",
        "becca\n",
        "\n",
        "becca.nome\n",
        "\n",
        "becca.raca\n",
        "\n",
        "type(becca)"
      ],
      "metadata": {
        "id": "lLZo-MyXBjma"
      },
      "execution_count": null,
      "outputs": []
    },
    {
      "cell_type": "code",
      "source": [
        "milka = Cachorro('Milka', 'Biewer', 40, 2)\n",
        "\n",
        "milka\n",
        "\n",
        "milka.latir()\n",
        "\n",
        "becca.latir()\n",
        "\n",
        "\"\"\"Duas coisas importantes aqui: primeiro, esse “at 0x7fa…” é o lugar da memória onde o nosso objeto está guardado; perceba que o lugar de memória onde os dois objetos da classe Cachorro estão guardados são diferentes, mostrando que são duas instâncias diferentes. Segundo, apesar do método latir(), definido na nossa classe Cachorro, ser o mesmo para as nossas duas instâncias, cada um tem um resultado diferente, pois o nosso método utiliza atributos intrínsecos da Classe (nesse caso, ele utiliza “self.nome”), e cada objeto criado possui um valor diferente para esse mesmo atributo.\"\"\"\"\n"
      ],
      "metadata": {
        "id": "8W8Fwa3kCQLt"
      },
      "execution_count": null,
      "outputs": []
    }
  ]
}